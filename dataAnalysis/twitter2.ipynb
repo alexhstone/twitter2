{
 "cells": [
  {
   "cell_type": "code",
   "execution_count": 24,
   "id": "d26a4856",
   "metadata": {},
   "outputs": [],
   "source": [
    "import pandas as pd\n",
    "import pickle\n",
    "from sklearn.naive_bayes import MultinomialNB\n",
    "from sklearn.feature_extraction.text import CountVectorizer\n",
    "from sklearn.model_selection import train_test_split\n",
    "from sklearn.metrics import accuracy_score\n",
    "import seaborn as sns\n",
    "import matplotlib.pyplot as plt\n",
    "import matplotlib.ticker as ticker\n",
    "\n",
    "df = pd.read_csv('./employee_feedback.csv')"
   ]
  },
  {
   "cell_type": "code",
   "execution_count": 25,
   "id": "8659219f",
   "metadata": {},
   "outputs": [
    {
     "data": {
      "text/html": [
       "<div>\n",
       "<style scoped>\n",
       "    .dataframe tbody tr th:only-of-type {\n",
       "        vertical-align: middle;\n",
       "    }\n",
       "\n",
       "    .dataframe tbody tr th {\n",
       "        vertical-align: top;\n",
       "    }\n",
       "\n",
       "    .dataframe thead th {\n",
       "        text-align: right;\n",
       "    }\n",
       "</style>\n",
       "<table border=\"1\" class=\"dataframe\">\n",
       "  <thead>\n",
       "    <tr style=\"text-align: right;\">\n",
       "      <th></th>\n",
       "      <th>message_id</th>\n",
       "      <th>message</th>\n",
       "      <th>positive_or_negative</th>\n",
       "    </tr>\n",
       "  </thead>\n",
       "  <tbody>\n",
       "    <tr>\n",
       "      <th>0</th>\n",
       "      <td>1</td>\n",
       "      <td>A perception of favoritism is affecting team m...</td>\n",
       "      <td>negative</td>\n",
       "    </tr>\n",
       "    <tr>\n",
       "      <th>1</th>\n",
       "      <td>2</td>\n",
       "      <td>Meetings have become unproductive and lengthy,...</td>\n",
       "      <td>negative</td>\n",
       "    </tr>\n",
       "    <tr>\n",
       "      <th>2</th>\n",
       "      <td>3</td>\n",
       "      <td>Your clear vision and strategic thinking have ...</td>\n",
       "      <td>positive</td>\n",
       "    </tr>\n",
       "    <tr>\n",
       "      <th>3</th>\n",
       "      <td>4</td>\n",
       "      <td>Your strategic planning and problem-solving ab...</td>\n",
       "      <td>positive</td>\n",
       "    </tr>\n",
       "    <tr>\n",
       "      <th>4</th>\n",
       "      <td>5</td>\n",
       "      <td>Your enthusiasm and dedication are contagious....</td>\n",
       "      <td>positive</td>\n",
       "    </tr>\n",
       "    <tr>\n",
       "      <th>...</th>\n",
       "      <td>...</td>\n",
       "      <td>...</td>\n",
       "      <td>...</td>\n",
       "    </tr>\n",
       "    <tr>\n",
       "      <th>95</th>\n",
       "      <td>96</td>\n",
       "      <td>Your transparency in decision-making has built...</td>\n",
       "      <td>positive</td>\n",
       "    </tr>\n",
       "    <tr>\n",
       "      <th>96</th>\n",
       "      <td>97</td>\n",
       "      <td>Your strategic planning and problem-solving ab...</td>\n",
       "      <td>positive</td>\n",
       "    </tr>\n",
       "    <tr>\n",
       "      <th>97</th>\n",
       "      <td>98</td>\n",
       "      <td>Your mentorship has been invaluable for my per...</td>\n",
       "      <td>positive</td>\n",
       "    </tr>\n",
       "    <tr>\n",
       "      <th>98</th>\n",
       "      <td>99</td>\n",
       "      <td>Your innovative ideas have driven our projects...</td>\n",
       "      <td>positive</td>\n",
       "    </tr>\n",
       "    <tr>\n",
       "      <th>99</th>\n",
       "      <td>100</td>\n",
       "      <td>Your vision and strategic thinking have been i...</td>\n",
       "      <td>positive</td>\n",
       "    </tr>\n",
       "  </tbody>\n",
       "</table>\n",
       "<p>100 rows × 3 columns</p>\n",
       "</div>"
      ],
      "text/plain": [
       "    message_id                                            message  \\\n",
       "0            1  A perception of favoritism is affecting team m...   \n",
       "1            2  Meetings have become unproductive and lengthy,...   \n",
       "2            3  Your clear vision and strategic thinking have ...   \n",
       "3            4  Your strategic planning and problem-solving ab...   \n",
       "4            5  Your enthusiasm and dedication are contagious....   \n",
       "..         ...                                                ...   \n",
       "95          96  Your transparency in decision-making has built...   \n",
       "96          97  Your strategic planning and problem-solving ab...   \n",
       "97          98  Your mentorship has been invaluable for my per...   \n",
       "98          99  Your innovative ideas have driven our projects...   \n",
       "99         100  Your vision and strategic thinking have been i...   \n",
       "\n",
       "   positive_or_negative  \n",
       "0              negative  \n",
       "1              negative  \n",
       "2              positive  \n",
       "3              positive  \n",
       "4              positive  \n",
       "..                  ...  \n",
       "95             positive  \n",
       "96             positive  \n",
       "97             positive  \n",
       "98             positive  \n",
       "99             positive  \n",
       "\n",
       "[100 rows x 3 columns]"
      ]
     },
     "execution_count": 25,
     "metadata": {},
     "output_type": "execute_result"
    }
   ],
   "source": [
    "df\n",
    "#cdf = df['positive_negative_count'] = df.groupby('positive_or_negative')['positive_or_negative'].count()\n",
    "#sentiment_count = sns.barplot(x = cdf.index, y =cdf.values)\n",
    "#sentiment_count.set(xlabel = 'Positive or Negative', ylabel = 'count', title = 'Sentiment Count by positive or negative')\n",
    "#ct = sns.countplot(data = df, x ='positive or negative', order = df[positive_or_negative].value_counts().index)\n",
    "#plt.show()"
   ]
  },
  {
   "cell_type": "code",
   "execution_count": 27,
   "id": "de10b19f",
   "metadata": {},
   "outputs": [
    {
     "name": "stdout",
     "output_type": "stream",
     "text": [
      "1.0\n"
     ]
    }
   ],
   "source": [
    "X = df['message']\n",
    "y = df['positive_or_negative']\n",
    "\n",
    "vectorizer = CountVectorizer()\n",
    "\n",
    "X_train, X_test, y_train, y_test = train_test_split(X, y, test_size=0.2, random_state=42)\n",
    "\n",
    "X_train = vectorizer.fit_transform(X_train)\n",
    "X_test = vectorizer.transform(X_test)\n",
    "\n",
    "model = MultinomialNB()\n",
    "model.fit(X_train, y_train)\n",
    "pred = model.predict(X_test)\n",
    "# print(pred)\n",
    "accuracy = accuracy_score(y_test, pred)\n",
    "print(accuracy)\n"
   ]
  },
  {
   "cell_type": "code",
   "execution_count": 28,
   "id": "b843514b",
   "metadata": {},
   "outputs": [
    {
     "name": "stdout",
     "output_type": "stream",
     "text": [
      "['negative' 'positive']\n"
     ]
    }
   ],
   "source": [
    "filename = 'model.pkl'\n",
    "\n",
    "\n",
    "with open(filename, 'wb') as file:\n",
    "    pickle.dump((model, vectorizer), file)\n",
    "    \n",
    "    \n",
    "with open('model.pkl', 'rb') as f: \n",
    "    model, vectorizer = pickle.load(f)\n",
    "    \n",
    "text = [\"favoritism is rampant!\", \"You're awesome!\"]\n",
    "textToPredict = vectorizer.transform(text)\n",
    "\n",
    "prediction = model.predict(textToPredict)\n",
    "print(prediction)"
   ]
  },
  {
   "cell_type": "code",
   "execution_count": null,
   "id": "521b8775",
   "metadata": {},
   "outputs": [],
   "source": []
  },
  {
   "cell_type": "code",
   "execution_count": null,
   "id": "8d4aa03e",
   "metadata": {},
   "outputs": [],
   "source": []
  }
 ],
 "metadata": {
  "kernelspec": {
   "display_name": "Python 3 (ipykernel)",
   "language": "python",
   "name": "python3"
  },
  "language_info": {
   "codemirror_mode": {
    "name": "ipython",
    "version": 3
   },
   "file_extension": ".py",
   "mimetype": "text/x-python",
   "name": "python",
   "nbconvert_exporter": "python",
   "pygments_lexer": "ipython3",
   "version": "3.10.9"
  }
 },
 "nbformat": 4,
 "nbformat_minor": 5
}
